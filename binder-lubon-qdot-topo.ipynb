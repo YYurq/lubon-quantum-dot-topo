import numpy as np
from qutip import *
import mpmath as mp
from scipy.interpolate import interp1d
import plotly.graph_objects as go

# Настройки mpmath
mp.dps = 30

# Параметры
hbar = 6.582e-16  # эВ·с
omega = 1e12      # Гц
m_star = 0.067 * 9.109e-31  # кг (GaAs)
omega_0 = 1e12    # Частота точки
g = 1e-3          # Константа связи
alpha = 1e-4      # Топологическая константа
lambda_so = 1e-5  # Спин-орбитальная константа
beta = 1e-3       # Регуляризация
T = 50
t = np.linspace(-T, T, 300)
gamma_n = [14.1347, 21.0220, 25.0108]
k = 1.0
epsilon = 1e-8
dt_avg = 2 * T / len(t)

# Дзета-функция
def zeta_squared(u):
    z = mp.zeta(0.5 + 1j * u)
    return float((z * z.conjugate()).real)

# Потенциал
V_eff = -k * np.array([zeta_squared(ti) for ti in t])

# Ядро с регуляризацией
def psi(s, u, epsilon):
    denom = (s - 0.5 - 1j*u)**2 * (1 - s - 0.5 - 1j*u)**2 + epsilon**2
    return 1 / denom  # Упрощение
def compute_kernel():
    N = len(t)
    K = np.zeros((N, N), dtype=complex)
    for i in range(N):
        for j in range(N):
            s = 0.5 + 1j * t[i]
            u = t[j]
            K[i, j] = psi(s, u, epsilon) * zeta_squared(u) * np.exp(-beta * (t[i] - t[j])**2)
    return (K + K.conj().T) / 2
K_sym = compute_kernel() * dt_avg
eigvals, eigvecs = np.linalg.eigh(K_sym)
idx = np.argsort(eigvals)[::-1]
eigvals = eigvals[idx]
eigvecs = eigvecs[:, idx]
selected_indices = [np.argmin(np.abs(eigvals - gamma)) for gamma in gamma_n]
lub_n = [np.abs(eigvecs[:, idx])**2 for idx in selected_indices]
lub_interps = [interp1d(t, fn, kind='cubic') for fn in lub_n]

# Квантовая точка в QuTiP (с учётом спина)
N_levels = 10
a = destroy(N_levels)
sz = sigmaz()
sx = sigmax()
H0 = 0.5 * hbar * omega_0 * (a.dag() * a + a * a.dag())  # Осциллятор
r_op = a + a.dag()

# Поле Любона
def phi_t(t_val):
    phi = 0
    for i, gamma in enumerate(gamma_n):
        phi += lub_interps[i](t_val) * np.exp(-1j * omega * gamma * t_val)
    return phi

# Топологический член
def H_top(t):
    H = 0
    for gamma in gamma_n:
        if abs(t - gamma) < 1e-3:  # Приближение дельта-функции
            H += alpha * sz
    return H

# Спин-орбитальное взаимодействие
p_op = 1j * (a.dag() - a)  # Импульс
H_so = lambda_so * sx * p_op

# Полный гамильтониан
def H_t(t, args):
    return H0 + (-g * r_op * phi_t(t).real) + H_top(t) + H_so * phi_t(t).real

# Моделирование
times = np.linspace(0, 1e-12, 100)
psi0 = tensor(basis(N_levels, 0), basis(2, 0))  # Начальное состояние со спином
result = sesolve(H_t, psi0, times, [a.dag() * a, sz])  # Ожидания

# Спектр
freqs = np.fft.fftfreq(len(times), times[1] - times[0])
spectrum = np.abs(np.fft.fft(result.expect[0]))
target_freqs = [omega * gamma / 2 / np.pi for gamma in gamma_n]

# Энтропия кластеров времени
entropies = []
for n in range(len(gamma_n)):
    rho = Qobj(lub_n[n] / np.sum(lub_n[n])).unit()  # Нормализованная плотность
    S = entropy_von_neumann(rho)
    entropies.append(S)

# Топологический заряд (численно)
charges = []
for n in range(len(gamma_n)):
    grad_phase = np.gradient(np.angle(lub_interps[n](t)), t)
    q_n = np.trapz(grad_phase, t) / (2 * np.pi)
    charges.append(q_n)

# Визуализация
fig = go.Figure()
fig.add_trace(go.Scatter(x=freqs, y=spectrum, mode='lines', name='Спектр'))
for f, gamma in zip(target_freqs, gamma_n):
    fig.add_trace(go.Scatter(x=[f, f], y=[0, max(spectrum)], mode='lines', line=dict(dash='dash'), name=f'γ_{n+1} = {gamma:.4f}'))
fig.update_layout(title='Спектр квантовой точки с топологическими эффектами', xaxis_title='Частота (Гц)', yaxis_title='Амплитуда')
fig.show()

# Вывод результатов
print("Энтропия кластеров времени:", entropies)
print("Топологические заряды:", charges)
